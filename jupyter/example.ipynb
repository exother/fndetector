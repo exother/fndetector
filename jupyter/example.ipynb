{
 "cells": [
  {
   "cell_type": "markdown",
   "metadata": {},
   "source": [
    "# FNDetector jupyter example"
   ]
  },
  {
   "cell_type": "markdown",
   "metadata": {},
   "source": [
    "Firstly, import fndetector."
   ]
  },
  {
   "cell_type": "code",
   "execution_count": 1,
   "metadata": {
    "collapsed": true
   },
   "outputs": [],
   "source": [
    "from fndetector import fndetector"
   ]
  },
  {
   "cell_type": "markdown",
   "metadata": {},
   "source": [
    "Let's check some articles."
   ]
  },
  {
   "cell_type": "code",
   "execution_count": 2,
   "metadata": {},
   "outputs": [
    {
     "name": "stdout",
     "output_type": "stream",
     "text": [
      "> The title might be a clickbait.\n",
      "# This news could be real, but there some negative results.\n"
     ]
    }
   ],
   "source": [
    "fndetector.check_news('https://en.oxforddictionaries.com/word-of-the-year/word-of-the-year-2016')"
   ]
  },
  {
   "cell_type": "code",
   "execution_count": 3,
   "metadata": {},
   "outputs": [
    {
     "name": "stdout",
     "output_type": "stream",
     "text": [
      "# This news is real.\n"
     ]
    }
   ],
   "source": [
    "fndetector.check_news('http://www.bbc.co.uk/news/uk-40169985')"
   ]
  },
  {
   "cell_type": "code",
   "execution_count": 4,
   "metadata": {},
   "outputs": [
    {
     "name": "stdout",
     "output_type": "stream",
     "text": [
      "> The title is supposed to be a clickbait.\n",
      "> The domain is blacklisted: clickbait, unreliable.\n",
      "# This news is fake.\n"
     ]
    }
   ],
   "source": [
    "fndetector.check_news('http://www.blacklistednews.com/The_American_dream%3F_Top_20%25_pulling_away_from_the_rest%2C_study_finds/58962/0/38/38/Y/M.html')"
   ]
  },
  {
   "cell_type": "code",
   "execution_count": null,
   "metadata": {
    "collapsed": true
   },
   "outputs": [],
   "source": []
  }
 ],
 "metadata": {
  "kernelspec": {
   "display_name": "Python 3",
   "language": "python",
   "name": "python3"
  },
  "language_info": {
   "codemirror_mode": {
    "name": "ipython",
    "version": 3
   },
   "file_extension": ".py",
   "mimetype": "text/x-python",
   "name": "python",
   "nbconvert_exporter": "python",
   "pygments_lexer": "ipython3",
   "version": "3.5.2"
  }
 },
 "nbformat": 4,
 "nbformat_minor": 2
}
